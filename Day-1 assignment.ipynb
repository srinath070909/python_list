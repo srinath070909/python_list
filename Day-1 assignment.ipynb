{
 "cells": [
  {
   "cell_type": "code",
   "execution_count": 1,
   "id": "c6aa193a",
   "metadata": {},
   "outputs": [
    {
     "name": "stdout",
     "output_type": "stream",
     "text": [
      "Integer: 10 | Type: <class 'int'>\n",
      "Float: 10.5 | Type: <class 'float'>\n",
      "String: Hello, Jupyter! | Type: <class 'str'>\n",
      "Boolean: True | Type: <class 'bool'>\n"
     ]
    }
   ],
   "source": [
    "# Declaring variables of different data types\n",
    "integer_var = 10             # Integer\n",
    "float_var = 10.5             # Float\n",
    "string_var = \"Hello, Jupyter!\"  # String\n",
    "boolean_var = True           # Boolean\n",
    "\n",
    "# Printing the variables and their types\n",
    "print(\"Integer:\", integer_var, \"| Type:\", type(integer_var))\n",
    "print(\"Float:\", float_var, \"| Type:\", type(float_var))\n",
    "print(\"String:\", string_var, \"| Type:\", type(string_var))\n",
    "print(\"Boolean:\", boolean_var, \"| Type:\", type(boolean_var))\n"
   ]
  },
  {
   "cell_type": "code",
   "execution_count": null,
   "id": "cc42f9c5",
   "metadata": {},
   "outputs": [],
   "source": []
  }
 ],
 "metadata": {
  "kernelspec": {
   "display_name": "Python 3 (ipykernel)",
   "language": "python",
   "name": "python3"
  },
  "language_info": {
   "codemirror_mode": {
    "name": "ipython",
    "version": 3
   },
   "file_extension": ".py",
   "mimetype": "text/x-python",
   "name": "python",
   "nbconvert_exporter": "python",
   "pygments_lexer": "ipython3",
   "version": "3.10.9"
  }
 },
 "nbformat": 4,
 "nbformat_minor": 5
}
