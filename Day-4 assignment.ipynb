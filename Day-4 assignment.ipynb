{
 "cells": [
  {
   "cell_type": "code",
   "execution_count": 2,
   "id": "1600f2ba",
   "metadata": {},
   "outputs": [
    {
     "name": "stdout",
     "output_type": "stream",
     "text": [
      "Apple\n",
      "Cherry\n",
      "Elderberry\n",
      "['Apple', 'Blueberry', 'Cherry', 'Date', 'Elderberry']\n"
     ]
    }
   ],
   "source": [
    "# Creating a list with 5 elements\n",
    "my_list = [\"Apple\", \"Banana\", \"Cherry\", \"Date\", \"Elderberry\"]\n",
    "\n",
    "# Accessing elements using index\n",
    "print(my_list[0])  # First element: Apple\n",
    "print(my_list[2])  # Third element: Cherry\n",
    "print(my_list[-1]) # Last element: Elderberry\n",
    "\n",
    "# Modifying an element in the list\n",
    "my_list[1] = \"Blueberry\"\n",
    "print(my_list)  # Updated list\n"
   ]
  },
  {
   "cell_type": "code",
   "execution_count": null,
   "id": "a20d9c12",
   "metadata": {},
   "outputs": [],
   "source": []
  }
 ],
 "metadata": {
  "kernelspec": {
   "display_name": "Python 3 (ipykernel)",
   "language": "python",
   "name": "python3"
  },
  "language_info": {
   "codemirror_mode": {
    "name": "ipython",
    "version": 3
   },
   "file_extension": ".py",
   "mimetype": "text/x-python",
   "name": "python",
   "nbconvert_exporter": "python",
   "pygments_lexer": "ipython3",
   "version": "3.10.9"
  }
 },
 "nbformat": 4,
 "nbformat_minor": 5
}
